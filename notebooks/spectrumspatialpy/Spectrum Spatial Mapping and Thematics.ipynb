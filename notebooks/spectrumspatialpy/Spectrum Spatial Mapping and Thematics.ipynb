{
 "cells": [
  {
   "cell_type": "markdown",
   "metadata": {},
   "source": [
    "# Spectrum Spatial Python Package \n",
    "This notebook describes the <b><code>spectrumspatialpy</code></b> python library through examples."
   ]
  },
  {
   "cell_type": "markdown",
   "metadata": {},
   "source": [
    "### Setup and Prerequisites\n",
    "\n",
    "Setup and prerequisites are desicribed in the <code>spectrumpy</code> notebook.\n"
   ]
  },
  {
   "cell_type": "code",
   "execution_count": 1,
   "metadata": {},
   "outputs": [
    {
     "name": "stdout",
     "output_type": "stream",
     "text": [
      "Note: you may need to restart the kernel to use updated packages.\n"
     ]
    }
   ],
   "source": [
    "pip install --quiet git+https://github.com/carypeebles/spectrumpy"
   ]
  },
  {
   "cell_type": "code",
   "execution_count": 2,
   "metadata": {},
   "outputs": [],
   "source": [
    "import spectrumpy\n",
    "myServer=spectrumpy.Servers.getServer('localhost')"
   ]
  },
  {
   "cell_type": "markdown",
   "metadata": {},
   "source": [
    "### About the Spectrum Spatial package\n",
    "\n",
    "The <b><i>spectrumspatialpy</i></b> package provides Python integration for the Spectrum Spatial services such as the Feature Service for querying spatial data. \n",
    "\n",
    "##### Installing the spectrumpy package"
   ]
  },
  {
   "cell_type": "code",
   "execution_count": 3,
   "metadata": {},
   "outputs": [
    {
     "name": "stdout",
     "output_type": "stream",
     "text": [
      "Note: you may need to restart the kernel to use updated packages.\n"
     ]
    }
   ],
   "source": [
    "pip install --quiet git+https://github.com/carypeebles/spectrumpy"
   ]
  },
  {
   "cell_type": "markdown",
   "metadata": {},
   "source": [
    "##### Instantiating a Spectrum Spatial service\n",
    "A Spectrum Spatial service is instantiated using an established Spectrum server object. For example,"
   ]
  },
  {
   "cell_type": "code",
   "execution_count": 4,
   "metadata": {},
   "outputs": [],
   "source": [
    "import spectrumspatialpy\n",
    "mySpectrumSpatial=spectrumspatialpy.SpatialServer(myServer)"
   ]
  },
  {
   "cell_type": "markdown",
   "metadata": {},
   "source": [
    "There are several service objects that are accessible off the main Spectrum Spatial object (<code>mySpectrumSpatial</code>).\n",
    "\n",
    "  * mySpectrumSpatial.FeatureService() : Returns the <b>Feature Service</b> for this server.\n",
    "  * mySpectrumSpatial.GeometryOperations() : Returns the <b>Geometry Service</b> for this server. This does not correspond to the LIM Geometry service; rather, it exposes a method for converting a GeoJSON FeatureCollection to a GeoPandas GeoDataFrame.\n",
    "  * mySpectrumSpatial.NamedResourceService() : Returns the <b>Named Resource Service</b> for this server.\n",
    "  * mySpectrumSpatial.Thematics() : Returns the <b>Thematics Service</b> for this server. This does not correspond to a LIM service, it was created to contain some methods that are specifically designed to output a theme from Python into the repository. There will be an example below.\n",
    "    \n",
    "\n",
    "### Feature Service\n",
    "The <code>FeatureService</code> exposes several methods represented by the LIM <a href=\"http://support.pb.com/help/spectrum/18.2/en/webhelp/Spatial/index.html#Spatial/source/Development/devguide/rest/feature.html\">FeatureService</a>.\n",
    "\n",
    "  * listTables() : Prints to the output the available named tables at the server\n",
    "  * describeTable(tablePath) : Prints to the output a description of the table\n",
    "  * query() : Accepts an MISQL query and returns a GeoJSON FeatureCollection\n",
    "  * get() : Exposes a way to issue an arbitrary request against the Feature Service\n",
    "    \n",
    "The code below lists the tables at <code>mySpectrumSpatial</code> and describes the USA sample table."
   ]
  },
  {
   "cell_type": "code",
   "execution_count": 5,
   "metadata": {},
   "outputs": [
    {
     "data": {
      "text/plain": [
       "['/Jupyter/NamedTables/StatesQuery',\n",
       " '/Samples/NamedTables/CountriesShapeTable',\n",
       " '/Samples/NamedTables/FlightsTable',\n",
       " '/Samples/NamedTables/Grid15Table',\n",
       " '/Samples/NamedTables/Interstates',\n",
       " '/Samples/NamedTables/LANDMRKS',\n",
       " '/Samples/NamedTables/Lakes',\n",
       " '/Samples/NamedTables/LineTable',\n",
       " '/Samples/NamedTables/MRRWorldTable',\n",
       " '/Samples/NamedTables/MississippiRiver',\n",
       " '/Samples/NamedTables/NamedViewTable',\n",
       " '/Samples/NamedTables/NamedViewTable_NamedTables',\n",
       " '/Samples/NamedTables/OceanTable',\n",
       " '/Samples/NamedTables/SavingsNLoan',\n",
       " '/Samples/NamedTables/Secondary_Rds',\n",
       " '/Samples/NamedTables/Streams_Rivers',\n",
       " '/Samples/NamedTables/UKCTY215',\n",
       " '/Samples/NamedTables/UK_REGNS',\n",
       " '/Samples/NamedTables/USA',\n",
       " '/Samples/NamedTables/USAViewTable',\n",
       " '/Samples/NamedTables/USA_CAPS',\n",
       " '/Samples/NamedTables/USA_OutLine',\n",
       " '/Samples/NamedTables/USCTY153',\n",
       " '/Samples/NamedTables/USCTY_1K',\n",
       " '/Samples/NamedTables/USCTY_8K',\n",
       " '/Samples/NamedTables/US_Ele_Grid_Table',\n",
       " '/Samples/NamedTables/US_HIWAY',\n",
       " '/Samples/NamedTables/Urban_Areas',\n",
       " '/Samples/NamedTables/Urban_CitiesPop10K_plus',\n",
       " '/Samples/NamedTables/Us_Int_Shields1',\n",
       " '/Samples/NamedTables/Us_Int_Shields2',\n",
       " '/Samples/NamedTables/Us_Int_Shields3',\n",
       " '/Samples/NamedTables/Wilderness_Areas',\n",
       " '/Samples/NamedTables/WorldGeoPackageTable',\n",
       " '/Samples/NamedTables/WorldModifiableNativeTable',\n",
       " '/Samples/NamedTables/WorldModifiableTable',\n",
       " '/Samples/NamedTables/WorldOracleDBQueryTable',\n",
       " '/Samples/NamedTables/WorldTable',\n",
       " '/Samples/NamedTables/WorldcapTable',\n",
       " '/Samples/NamedTables/airportswithtimefieldsTable',\n",
       " '/Samples/NamedTables/dcwashcities',\n",
       " '/Samples/NamedTables/dcwashcounties',\n",
       " '/Samples/NamedTables/dcwashexpressways',\n",
       " '/Samples/NamedTables/dcwashgazetteer1',\n",
       " '/Samples/NamedTables/dcwashgazetteer2',\n",
       " '/Samples/NamedTables/dcwashgazetteer3',\n",
       " '/Samples/NamedTables/dcwashgazetteer4',\n",
       " '/Samples/NamedTables/dcwashgazetteer5',\n",
       " '/Samples/NamedTables/dcwashgazetteer6',\n",
       " '/Samples/NamedTables/dcwashgazetteer7',\n",
       " '/Samples/NamedTables/dcwashlandmarks',\n",
       " '/Samples/NamedTables/dcwashlanduse',\n",
       " '/Samples/NamedTables/dcwashlocalhwys_med',\n",
       " '/Samples/NamedTables/dcwashlocalrtes',\n",
       " '/Samples/NamedTables/dcwashoneways',\n",
       " '/Samples/NamedTables/dcwashprimaryhwys',\n",
       " '/Samples/NamedTables/dcwashprimaryhwys_med',\n",
       " '/Samples/NamedTables/dcwashrailroads',\n",
       " '/Samples/NamedTables/dcwashregionalhwys',\n",
       " '/Samples/NamedTables/dcwashrivers',\n",
       " '/Samples/NamedTables/dcwashsecondaryhwys',\n",
       " '/Samples/NamedTables/dcwashshldinter_0to5',\n",
       " '/Samples/NamedTables/dcwashshldinter_15to50',\n",
       " '/Samples/NamedTables/dcwashshldinter_5to15',\n",
       " '/Samples/NamedTables/dcwashshldstate_0to5',\n",
       " '/Samples/NamedTables/dcwashshldstate_15to50',\n",
       " '/Samples/NamedTables/dcwashshldstate_5to15',\n",
       " '/Samples/NamedTables/dcwashshldus_0to5',\n",
       " '/Samples/NamedTables/dcwashshldus_15to50',\n",
       " '/Samples/NamedTables/dcwashshldus_5to15',\n",
       " '/Samples/NamedTables/dcwashsignposts',\n",
       " '/Samples/NamedTables/dcwashstreets',\n",
       " '/Samples/NamedTables/dcwashtowns',\n",
       " '/Samples/NamedTables/dcwashurbanareas',\n",
       " '/Samples/NamedTables/dcwashwaterbodies']"
      ]
     },
     "execution_count": 5,
     "metadata": {},
     "output_type": "execute_result"
    }
   ],
   "source": [
    "ftrService = mySpectrumSpatial.FeatureService()\n",
    "ftrService.listTables()"
   ]
  },
  {
   "cell_type": "code",
   "execution_count": 6,
   "metadata": {
    "scrolled": true
   },
   "outputs": [
    {
     "name": "stdout",
     "output_type": "stream",
     "text": [
      "TABLE:/Samples/NamedTables/USA\n",
      "------------------------------------------------------------------------------------\n",
      "Obj                     \tGeometry\n",
      "MI_Style                \tStyle\n",
      "State_Name              \tString\n",
      "State                   \tString\n",
      "Fips_Code               \tString\n",
      "Pop_1990                \tDecimal\t (10,0)\n",
      "Pop_2000                \tDecimal\t (10,0)\n",
      "Num_Hh_1990             \tDecimal\t (10,0)\n",
      "Num_Hh_2000             \tInteger\n",
      "Med_Inc_1990            \tDecimal\t (10,0)\n",
      "Med_Inc_2000            \tDouble\n",
      "Pop_Urban_2000          \tInteger\n",
      "Pop_Rural_2000          \tInteger\n",
      "Pop_Male                \tDecimal\t (10,0)\n",
      "Pop_Female              \tDecimal\t (10,0)\n",
      "Pop_Cauc                \tDecimal\t (10,0)\n",
      "Pop_Black               \tDecimal\t (10,0)\n",
      "Pop_Native              \tDecimal\t (10,0)\n",
      "Pop_Asian               \tDecimal\t (10,0)\n",
      "Pop_Other               \tDecimal\t (10,0)\n",
      "Sales_1990              \tDecimal\t (10,0)\n",
      "AmerIndianAlaskaNat_2000\tDecimal\t (10,0)\n",
      "AsianHawaiianAlone_2000 \tDecimal\t (10,0)\n",
      "Pop_Black_2000          \tDecimal\t (10,0)\n",
      "Pop_Cauc_Alone_2000     \tDecimal\t (10,0)\n",
      "Pop_Asian_Alone_2000    \tDecimal\t (10,0)\n",
      "Area_in_Miles_2000      \tDecimal\t (10,0)\n",
      "Area_in_Km_2000         \tDecimal\t (10,0)\n",
      "URL                     \tString\n",
      "\n"
     ]
    }
   ],
   "source": [
    "ftrService.describeTable(\"/Samples/NamedTables/USA\")"
   ]
  },
  {
   "cell_type": "markdown",
   "metadata": {},
   "source": [
    "##### MISQL Query\n",
    "The query method accepts an <a href=\"http://support.pb.com/help/spectrum/18.2/en/webhelp/Spatial/index.html#Spatial/source/misql/misqlapiguide/index/function_index.html\">MISQL</a> query and returns a GeoJSON FeatureCollection. The following example returns all features from the USA sample dataset whose state name begins with 'N' and prints out some results. Note we return only the centroid of the state geometry only for the purposes of showing a geometry without generating too much output."
   ]
  },
  {
   "cell_type": "code",
   "execution_count": 7,
   "metadata": {},
   "outputs": [
    {
     "name": "stdout",
     "output_type": "stream",
     "text": [
      "{'type': 'FeatureCollection', 'features': [{'type': 'Feature', 'properties': {'State_Name': 'Nebraska', 'State': 'NE', 'Fips_Code': '31', 'Pop_1990': 1578385.0, 'Pop_2000': 1711263.0}, 'geometry': {'type': 'Point', 'coordinates': [-99.680521, 41.50087]}, 'id': 28}, {'type': 'Feature', 'properties': {'State_Name': 'Nevada', 'State': 'NV', 'Fips_Code': '32', 'Pop_1990': 1201833.0, 'Pop_2000': 1998257.0}, 'geometry': {'type': 'Point', 'coordinates': [-117.021761, 38.502190999999996]}, 'id': 29}, {'type': 'Feature', 'properties': {'State_Name': 'New Hampshire', 'State': 'NH', 'Fips_Code': '33', 'Pop_1990': 1109252.0, 'Pop_2000': 1235786.0}, 'geometry': {'type': 'Point', 'coordinates': [-71.63089099999999, 44.001070999999996]}, 'id': 30}, {'type': 'Feature', 'properties': {'State_Name': 'New Jersey', 'State': 'NJ', 'Fips_Code': '34', 'Pop_1990': 7730188.0, 'Pop_2000': 8414350.0}, 'geometry': {'type': 'Point', 'coordinates': [-74.7271, 40.142868]}, 'id': 31}, {'type': 'Feature', 'properties': {'State_Name': 'New Mexico', 'State': 'NM', 'Fips_Code': '35', 'Pop_1990': 1515069.0, 'Pop_2000': 1819046.0}, 'geometry': {'type': 'Point', 'coordinates': [-106.02552, 34.16617]}, 'id': 32}, {'type': 'Feature', 'properties': {'State_Name': 'New York', 'State': 'NY', 'Fips_Code': '36', 'Pop_1990': 17990455.0, 'Pop_2000': 18976457.0}, 'geometry': {'type': 'Point', 'coordinates': [-76.502057, 42.856215999999996]}, 'id': 33}, {'type': 'Feature', 'properties': {'State_Name': 'North Carolina', 'State': 'NC', 'Fips_Code': '37', 'Pop_1990': 6628637.0, 'Pop_2000': 8049313.0}, 'geometry': {'type': 'Point', 'coordinates': [-80.018692, 35.213817]}, 'id': 34}, {'type': 'Feature', 'properties': {'State_Name': 'North Dakota', 'State': 'ND', 'Fips_Code': '38', 'Pop_1990': 638800.0, 'Pop_2000': 642200.0}, 'geometry': {'type': 'Point', 'coordinates': [-100.30129099999999, 47.46788]}, 'id': 35}], 'Metadata': [{'name': 'State_Name', 'type': 'String'}, {'name': 'State', 'type': 'String'}, {'name': 'Fips_Code', 'type': 'String'}, {'name': 'Pop_1990', 'type': 'Decimal', 'fractionalDigits': 0, 'totalDigits': 10}, {'name': 'Pop_2000', 'type': 'Decimal', 'fractionalDigits': 0, 'totalDigits': 10}, {'name': 'MI_Centroid_Obj_', 'type': 'Geometry', 'crs': {'type': 'name', 'properties': {'name': 'epsg:4267'}}, 'bbox': [-117.021761, 34.16617, -71.63089099999999, 47.46788]}], 'bbox': [-117.021761, 34.16617, -71.63089099999999, 47.46788], 'crs': {'type': 'name', 'properties': {'name': 'epsg:4267'}}}\n"
     ]
    }
   ],
   "source": [
    "query = \"select State_Name, State, Fips_Code, Pop_1990, Pop_2000, MI_Centroid(OBJ) \" \\\n",
    "    \"from \\\"/Samples/NamedTables/USA\\\" \" \\\n",
    "    \"where State_Name LIKE 'N%'\"\n",
    "states = ftrService.query(query)\n",
    "print(states)"
   ]
  },
  {
   "cell_type": "code",
   "execution_count": 8,
   "metadata": {},
   "outputs": [
    {
     "name": "stdout",
     "output_type": "stream",
     "text": [
      "Nebraska\tNE\t31\t1578385.0\t1711263.0\t-99.680521,41.50087\n",
      "Nevada\tNV\t32\t1201833.0\t1998257.0\t-117.021761,38.502190999999996\n",
      "New Hampshire\tNH\t33\t1109252.0\t1235786.0\t-71.63089099999999,44.001070999999996\n",
      "New Jersey\tNJ\t34\t7730188.0\t8414350.0\t-74.7271,40.142868\n",
      "New Mexico\tNM\t35\t1515069.0\t1819046.0\t-106.02552,34.16617\n",
      "New York\tNY\t36\t17990455.0\t18976457.0\t-76.502057,42.856215999999996\n",
      "North Carolina\tNC\t37\t6628637.0\t8049313.0\t-80.018692,35.213817\n",
      "North Dakota\tND\t38\t638800.0\t642200.0\t-100.30129099999999,47.46788\n"
     ]
    }
   ],
   "source": [
    "# Iterate through the individual features and properties to display some output\n",
    "features = states[\"features\"]\n",
    "for i in range(len(features)):\n",
    "    properties = features[i][\"properties\"]\n",
    "    print (properties[\"State_Name\"], end='')\n",
    "    print (\"\\t\", end='')\n",
    "    print (properties[\"State\"], end='')\n",
    "    print (\"\\t\", end='')\n",
    "    print (properties[\"Fips_Code\"], end='')\n",
    "    print (\"\\t\", end='')\n",
    "    print (str(properties[\"Pop_1990\"]), end='')\n",
    "    print (\"\\t\", end='')\n",
    "    print (str(properties[\"Pop_2000\"]), end='')\n",
    "    print (\"\\t\", end='')\n",
    "    print (str(features[i][\"geometry\"]['coordinates'][0]), end='')\n",
    "    print (\",\", end='')\n",
    "    print (str(features[i][\"geometry\"]['coordinates'][1]), end='')\n",
    "    print (\"\")"
   ]
  },
  {
   "cell_type": "markdown",
   "metadata": {},
   "source": [
    "##### Display query results using Leaflet (embedded within this notebook)\n",
    "The ipyleaflet package enables a leaflet map to be embedded directly within a Jupyter notebook (or python session). The map is interactive and allows for the ability to insert a feature collection (GeoJSON).\n"
   ]
  },
  {
   "cell_type": "code",
   "execution_count": 9,
   "metadata": {},
   "outputs": [
    {
     "name": "stdout",
     "output_type": "stream",
     "text": [
      "Note: you may need to restart the kernel to use updated packages.\n"
     ]
    }
   ],
   "source": [
    "pip install --quiet ipyleaflet"
   ]
  },
  {
   "cell_type": "code",
   "execution_count": 10,
   "metadata": {},
   "outputs": [],
   "source": [
    "import ipyleaflet"
   ]
  },
  {
   "cell_type": "code",
   "execution_count": 11,
   "metadata": {},
   "outputs": [],
   "source": [
    "center = [38.992415, -95.147358]\n",
    "zoom = 4\n",
    "m = ipyleaflet.Map(center=center, zoom=zoom)\n",
    "# Creating the map does not display it in the notebook's output. To do that, simply \n",
    "# output it by entering the variable (m) on a line by itself. The line below is commented \n",
    "# out since we haven't added our query results to the map yet so we'll wait to display it\n",
    "# in a few cells\n",
    "#m"
   ]
  },
  {
   "cell_type": "code",
   "execution_count": 12,
   "metadata": {},
   "outputs": [],
   "source": [
    "# Reissue the states query to include the full geometry which was truncated above to minimize the output.\n",
    "query = \"select State_Name, State, Fips_Code, Pop_1990, Pop_2000, OBJ \" \\\n",
    "    \"from \\\"/Samples/NamedTables/USA\\\" \" \\\n",
    "    \"where State_Name LIKE 'N%'\"\n",
    "states = ftrService.query(query)\n"
   ]
  },
  {
   "cell_type": "code",
   "execution_count": 13,
   "metadata": {},
   "outputs": [],
   "source": [
    "# Create the output layer for our query results and add the layer to the map\n",
    "states_layer=ipyleaflet.GeoJSON(data=states)\n",
    "m.add_layer(states_layer)"
   ]
  },
  {
   "cell_type": "markdown",
   "metadata": {},
   "source": [
    "Display the map! Note this is an interactive map embedded directly into the notebook. Later steps below will update the map shown here."
   ]
  },
  {
   "cell_type": "code",
   "execution_count": 14,
   "metadata": {},
   "outputs": [
    {
     "data": {
      "application/vnd.jupyter.widget-view+json": {
       "model_id": "46377f4570c2445f9cca99a46f75d0da",
       "version_major": 2,
       "version_minor": 0
      },
      "text/plain": [
       "Map(basemap={'url': 'https://{s}.tile.openstreetmap.org/{z}/{x}/{y}.png', 'max_zoom': 19, 'attribution': 'Map …"
      ]
     },
     "metadata": {},
     "output_type": "display_data"
    }
   ],
   "source": [
    "m"
   ]
  },
  {
   "cell_type": "markdown",
   "metadata": {},
   "source": [
    "The map should look like this<br/>\n",
    "<IMG src=\"images\\States_starting_with_N.png\"/>"
   ]
  },
  {
   "cell_type": "markdown",
   "metadata": {},
   "source": [
    "##### Style and Thematics\n",
    "The features added to the map used a default leaflet style. Many analytic use cases will want to apply color and other styling to the features to visually represent the data results. The Thematics Service in the Spectrum python package assist with this process. Currently it only works with Individual Value themes.\n",
    "\n",
    "### Thematics Service\n",
    "The <code>Thematics</code> service exposes a set of utility methods for creating and persisting thematics. It does not correspond directly to a LIM service. The methods exposed are:\n",
    "\n",
    "  * apply_indiv_value_theme(data, theme_property, indiv_value_theme_buckets) : Applies styles to a geojson feature collection. <code>data</code> supplies the feature collection, <code>theme_property</code> identifies the property on the features in <code>data</code> that is used to look up the style, and <code>indiv_value_theme_buckets</code> contains an array of 2-member arrays containing values in the <code>theme_property</code> property and a style object.\n",
    "  * generate_range_theme_buckets(data_series, n_bins, start_color, end_color) : splits a data series into a specified number of bins and spreads colors for each bin from `start_color` to `end_color`. See below in this notebook for a detailed example.\n",
    "  * convert_to_indiv_value(data, theme_property, ranges, lookup_table, stroke_color, stroke_weight, fill_opacity, all_others_fill_color) : Converts a range theme to an individual value theme on a feature collection. See below in this notebook for a detailed example.\n",
    "  * write_indiv_value_theme(path, layer_name, table_name, theme_property, value_map) : Converts the theme into a NamedLayer definition and uses the <code>NamedResourceService</code> to write the new layer definition into the Spectrum Spatial repository.\n",
    "  * write_map(map_path, map_name, layers, center, zoom=10000, zoomUnit=\"mi\") : Creates a NamedMap definition and writes it into the Spectrum Spatial repository. Typically used with thematic layers created from <code>write_indiv_value_theme</code>\n",
    "    \n",
    "### Named Respurce Service\n",
    "This service corresponds to the <a href=\"http://support.pb.com/help/spectrum/18.2/en/webhelp/Spatial/index.html#Spatial/source/Services/namedresource/introduction/chapter.html\">NamedResourceService</a>. Methods exposed currently are:\n",
    "\n",
    "  * listNamedResources(path) : Lists the named resosurces at this server within the specified path. Use '/' for the root to return all resources.\n",
    "  * does_exist(path, name) : Indicates True/False if the specified named resource exists.\n",
    "  * upsert(path, name, sz_resource) : Inserts or updates the named resource with the specified contents.\n",
    "\n",
    "Below is a hardcoded Individual Value theme mapping values of the State column to style objects that leaflet will read. The style objects correspond to the geoJson.setStyle properties found in [the Leaflet Documentation](http://leafletjs.com/reference-1.2.0.html)."
   ]
  },
  {
   "cell_type": "code",
   "execution_count": 15,
   "metadata": {},
   "outputs": [],
   "source": [
    "thematicsService = mySpectrumSpatial.Thematics()"
   ]
  },
  {
   "cell_type": "code",
   "execution_count": 16,
   "metadata": {},
   "outputs": [],
   "source": [
    "ivTheme= [\n",
    "    ['NE', {'color': 'white', 'fillColor': '#f00000', 'fillOpacity': 0.5, 'weight': 1}],\n",
    "    ['NV', {'color': 'white', 'fillColor': '#ea4e00', 'fillOpacity': 0.5, 'weight': 1}],\n",
    "    ['NH', {'color': 'white', 'fillColor': '#bfbf00', 'fillOpacity': 0.5, 'weight': 1}],\n",
    "    ['NJ', {'color': 'white', 'fillColor': '#d58e00', 'fillOpacity': 0.5, 'weight': 1}],\n",
    "    ['NM', {'color': 'white', 'fillColor': '#d58e00', 'fillOpacity': 0.5, 'weight': 1}],\n",
    "    ['NY', {'color': 'white', 'fillColor': '#72aa00', 'fillOpacity': 0.5, 'weight': 1}],\n",
    "    ['NC', {'color': 'white', 'fillColor': '#dc42f4', 'fillOpacity': 0.5, 'weight': 1}],\n",
    "    ['ND', {'color': 'white', 'fillColor': '#329500', 'fillOpacity': 0.5, 'weight': 1}]\n",
    "]"
   ]
  },
  {
   "cell_type": "code",
   "execution_count": 17,
   "metadata": {},
   "outputs": [],
   "source": [
    "# Let's use the Thematics service to apply that Indiv Value theme to our feature collection and update the layer in our \n",
    "# leaflet map shown above.\n",
    "thematicsService.apply_indiv_value_theme(states, 'State', ivTheme)\n",
    "m.remove_layer(states_layer)\n",
    "states_layer = ipyleaflet.GeoJSON(data=states)\n",
    "m.add_layer(states_layer)"
   ]
  },
  {
   "cell_type": "markdown",
   "metadata": {},
   "source": [
    "The leaflet map shown above should now look like this:<br/>\n",
    "<IMG src=\"images\\States_starting_with_N_themed.png\"/>"
   ]
  },
  {
   "cell_type": "markdown",
   "metadata": {},
   "source": [
    "##### Write Results, Map, and Theme to Spectrum Spatial\n",
    "Often we may want to write our results to Spectrum Spatial so that they can be used in applications such as Spectrum Spatial Analyst. In this small demonstration example, we have a custom query with custom styling. The FeatureService class in our Spectrum python package includes a method for creating a NamedTable using a View and the Thematics class provides the ability to output a new map with an Individual value theme. The calls below will use these capabilities. The Spatial Manager can be used to visualize the newly created view table and map."
   ]
  },
  {
   "cell_type": "code",
   "execution_count": 18,
   "metadata": {},
   "outputs": [],
   "source": [
    "ftrService.createViewTable(query, \"/Jupyter/NamedTables\", \"StatesQuery\", [\"/Samples/NamedTables/USA\"])"
   ]
  },
  {
   "cell_type": "code",
   "execution_count": 19,
   "metadata": {},
   "outputs": [],
   "source": [
    "thematicsService.write_indiv_value_theme(\n",
    "    \"/Jupyter/NamedLayers\",             # Layer path (will be created if it does not exist)\n",
    "    \"StatesThemeLayer\",                 # NamedLayer name\n",
    "    \"/Jupyter/NamedTables/StatesQuery\", # NamedTable data source \n",
    "    \"State\", ivTheme)                   # Theme: Column name in datasource and value-to-color mapping\n",
    "\n",
    "thematicsService.write_map(\n",
    "    \"/Jupyter/NamedMaps\",               # Map path (will be created if it does not exist)\n",
    "    \"StatesThemeMap\",                   # NamedMap name\n",
    "    [                                   # NamedLayers in the map - array of 2-element arrays where \n",
    "        [\"/Jupyter/NamedLayers\",        #    first is NamedLayer's path\n",
    "         \"StatesThemeLayer\"],           #    second is the NamedLayer's name\n",
    "        [\"/Samples/NamedLayers\",\n",
    "        \"USALayer\"]\n",
    "    ],\n",
    "    center, 2500, \"mi\")                 # Map view (center, zoom, and zoom unit)"
   ]
  },
  {
   "cell_type": "markdown",
   "metadata": {},
   "source": [
    "If you now go check your Spatial Manager application, in the folder <code>/Jupyter/NamedMaps</code> should be a map named <code>StatesThemeMap</code> and should look like this:<br/>\n",
    "<IMG src=\"images/States_themed_by_hiway_len_LIM.png\"/>"
   ]
  },
  {
   "cell_type": "markdown",
   "metadata": {},
   "source": [
    "### Spatial Data Science using Pandas and GeoPandas\n",
    "Pandas is a Python package that is very popular amongst data scientists. It organizes data into Series and DataFrame object types (essentially 1D and 2D, respectively). GeoPandas is an extension to Pandas that adds support for Geometry as a data type. In this section of the notebook, we will produce a thematic map based on Pandas-based calculations.\n",
    "<br/>\n",
    "To keep the example simple, we want to theme the USA map based on the total length of highways that intersect each state in the US_HIWAY sample table."
   ]
  },
  {
   "cell_type": "code",
   "execution_count": 20,
   "metadata": {},
   "outputs": [],
   "source": [
    "# First we will ask Spectrum Spatial to relate the state boundaries and highways \n",
    "# together and compute the intersection lengths.\n",
    "query = \\\n",
    "    'SELECT USA.State as State, '\\\n",
    "    '     MI_Length(MI_Intersection(USA.OBJ,US_HIWAY.OBJ),\\'mi\\',\\'Spherical\\') as len ' \\\n",
    "    'FROM \"/Samples/NamedTables/USA\" as USA, ' \\\n",
    "    '     \"/Samples/NamedTables/US_HIWAY\" as US_HIWAY ' \\\n",
    "    'WHERE USA.OBJ intersects US_HIWAY.OBJ'\n",
    "ftrCollection = ftrService.query(query)\n",
    "# The resulting feature collection has no geometry and two properties (State and len)"
   ]
  },
  {
   "cell_type": "code",
   "execution_count": 21,
   "metadata": {},
   "outputs": [
    {
     "data": {
      "text/html": [
       "<div>\n",
       "<style scoped>\n",
       "    .dataframe tbody tr th:only-of-type {\n",
       "        vertical-align: middle;\n",
       "    }\n",
       "\n",
       "    .dataframe tbody tr th {\n",
       "        vertical-align: top;\n",
       "    }\n",
       "\n",
       "    .dataframe thead th {\n",
       "        text-align: right;\n",
       "    }\n",
       "</style>\n",
       "<table border=\"1\" class=\"dataframe\">\n",
       "  <thead>\n",
       "    <tr style=\"text-align: right;\">\n",
       "      <th></th>\n",
       "      <th>State</th>\n",
       "      <th>len</th>\n",
       "    </tr>\n",
       "  </thead>\n",
       "  <tbody>\n",
       "    <tr>\n",
       "      <th>0</th>\n",
       "      <td>AL</td>\n",
       "      <td>63.331702</td>\n",
       "    </tr>\n",
       "    <tr>\n",
       "      <th>1</th>\n",
       "      <td>AZ</td>\n",
       "      <td>390.301822</td>\n",
       "    </tr>\n",
       "    <tr>\n",
       "      <th>2</th>\n",
       "      <td>CA</td>\n",
       "      <td>239.078008</td>\n",
       "    </tr>\n",
       "    <tr>\n",
       "      <th>3</th>\n",
       "      <td>FL</td>\n",
       "      <td>360.017392</td>\n",
       "    </tr>\n",
       "    <tr>\n",
       "      <th>4</th>\n",
       "      <td>LA</td>\n",
       "      <td>272.916371</td>\n",
       "    </tr>\n",
       "  </tbody>\n",
       "</table>\n",
       "</div>"
      ],
      "text/plain": [
       "  State         len\n",
       "0    AL   63.331702\n",
       "1    AZ  390.301822\n",
       "2    CA  239.078008\n",
       "3    FL  360.017392\n",
       "4    LA  272.916371"
      ]
     },
     "execution_count": 21,
     "metadata": {},
     "output_type": "execute_result"
    }
   ],
   "source": [
    "# The Spectrum python package's GeometryService provides a method to convert\n",
    "# a GeoJSON feature collection into a GeoPandas GeoDataFrame object. We will do that\n",
    "# so that we can then work with the data in this format\n",
    "geoDataFrame = mySpectrumSpatial.GeometryOperations().GeoJSON2GeoDataFrame(ftrCollection)\n",
    "geoDataFrame.head() # Outputs the top 5 records to the notebook to see what's going on"
   ]
  },
  {
   "cell_type": "code",
   "execution_count": 22,
   "metadata": {},
   "outputs": [
    {
     "data": {
      "text/plain": [
       "State\n",
       "AL     863.453504\n",
       "AR     514.167079\n",
       "AZ    1158.319852\n",
       "CA    2361.937791\n",
       "CO     931.712126\n",
       "Name: len, dtype: float64"
      ]
     },
     "execution_count": 22,
     "metadata": {},
     "output_type": "execute_result"
    }
   ],
   "source": [
    "# Now that we have a DataFrame, we can manipulate it further using any Python\n",
    "# commands desired. What we will do here is to aggregate the DataFrame based on the State\n",
    "# property.\n",
    "stateHiwayGroups = geoDataFrame.groupby(\"State\") # Returns a DataFrameGroupBy object\n",
    "stateHiwayLens = stateHiwayGroups[\"len\"]         # Returns a SeriesGroupBy object\n",
    "stateHiwayTotalDistance = stateHiwayLens.sum()   # Returns a Series object with the State values as the labels and the SUM(len) as the values\n",
    "stateHiwayTotalDistance.head()"
   ]
  },
  {
   "cell_type": "code",
   "execution_count": 23,
   "metadata": {},
   "outputs": [
    {
     "name": "stdout",
     "output_type": "stream",
     "text": [
      "9.102988989997751 = #008000\n",
      "628.9037002938525 = #bfbf00\n",
      "945.1694169454437 = #f00\n",
      "3052.490097833472 = #f00\n"
     ]
    }
   ],
   "source": [
    "# Now that we have a Pandas Series object which is a 1-D list of aggregate lengths of\n",
    "# hiways that intersect a state and the label for each entry in the Series is the state code,\n",
    "# the next step is to group these values into ranges (bins). This is done using the Thematics class\n",
    "# which exposes a method named generate_range_theme_buckets using the Pandas qcut function\n",
    "#   https://pandas.pydata.org/pandas-docs/stable/generated/pandas.qcut.html\n",
    "stateHiwayRangeBins = thematicsService.generate_range_theme_buckets(\n",
    "    stateHiwayTotalDistance, # Data Series\n",
    "    3,                       # Number of Bins\n",
    "    \"green\",                 # Start Color (least miles of highways)\n",
    "    \"red\")                   # End Color   (most miles of highways)\n",
    "# Display the contents of the bins which is simply an array of pairs in which the first value\n",
    "# is the value and the second value is a color. Notice the color of the last 2 entires is the same.\n",
    "# In this example, we asked for 3 bins and the list has 4 entries but only 3 colors. The first entry\n",
    "# is the min value of the data while the last enty is the max data value. \n",
    "for bucket, color in stateHiwayRangeBins:\n",
    "    print(bucket, end='')\n",
    "    print(' = ', end='')\n",
    "    print (color.get_hex(), end='')\n",
    "    print (\"\")"
   ]
  },
  {
   "cell_type": "code",
   "execution_count": 24,
   "metadata": {},
   "outputs": [],
   "source": [
    "# To use this in Leaflet, we will assign the color to each feature based on which bin\n",
    "# it resides in. This is done through a helper function on the Thematics class in the\n",
    "# Spectrum python package named convert_to_indiv_value()\n",
    "#\n",
    "# First we need the states data (so far all we have read in was based on states with names\n",
    "# beginning with N but here we want to display all states in our map)\n",
    "states = ftrService.query('SELECT State,OBJ FROM \"/Samples/NamedTables/USA\"')\n",
    "# Now that we have our full set of state objects, \n",
    "ivTheme = thematicsService.convert_to_indiv_value(\n",
    "    states,                # Feature Collection \n",
    "    'State',               # Theme expression column in the Feature Collection that serves as the\n",
    "                           # Series label in the data Series lookup table (below)\n",
    "    stateHiwayRangeBins,   # Bin data - mapping of ranges to colors\n",
    "    stateHiwayTotalDistance, # Series that correlates feature expressions (State codes in this example)\n",
    "                           # to data values (sum of lengths of hiways in that state in this example)\n",
    "    'white', 1, 0.50, 'white') # Default color properties if not found in the bins"
   ]
  },
  {
   "cell_type": "code",
   "execution_count": 25,
   "metadata": {},
   "outputs": [],
   "source": [
    "# Like we did earlier, we can now apply this individual value theme (which is a 2-D mapping\n",
    "# of features identified by a value - State in this case - to a color) to the actual dataset.\n",
    "# Note we could have done that as part of the above call and maybe should. But this function also\n",
    "# supports actual individual value use cases like earlier so we're just using it again here)\n",
    "thematicsService.apply_indiv_value_theme(states, 'State', ivTheme)"
   ]
  },
  {
   "cell_type": "code",
   "execution_count": 26,
   "metadata": {},
   "outputs": [],
   "source": [
    "# Finally remove and readd our layer in the map - you will need to scroll your notebook\n",
    "# up after this runs to see the result.\n",
    "m.remove_layer(states_layer)\n",
    "states_layer = ipyleaflet.GeoJSON(data=states)\n",
    "m.add_layer(states_layer)"
   ]
  },
  {
   "cell_type": "markdown",
   "metadata": {},
   "source": [
    "The leaflet map embedded in the notebook above should now look like this:<br/>\n",
    "<IMG src=\"images/States_themed_by_hiway_len.png\"/>"
   ]
  },
  {
   "cell_type": "markdown",
   "metadata": {},
   "source": [
    "The resulting map shows states shaded as red, yellow, or green based on the total miles of highways from the US_HIWAY file that run through it. This analysis is a bit unfair since very small states like Rhode Island or Connecticut would always have smaller totals that very large states like Texas or California. What may make a better analytic result would be to divide the milage by the area of the state and re-compute the thematic. This next cell does all of that in one cell since we've already seen all of these samples."
   ]
  },
  {
   "cell_type": "code",
   "execution_count": 27,
   "metadata": {},
   "outputs": [],
   "source": [
    "query = \\\n",
    "    'SELECT State, '\\\n",
    "    '     MI_Area(OBJ,\\'sq mi\\',\\'Spherical\\') as Area ' \\\n",
    "    'FROM \"/Samples/NamedTables/USA\" as USA '\n",
    "areas = ftrService.query(query)\n",
    "stateAreas = mySpectrumSpatial.GeometryOperations().GeoJSON2GeoDataFrame(areas).groupby(\"State\")[\"Area\"].sum()\n",
    "stateHiwayDistancePerSqMile = stateHiwayTotalDistance / stateAreas\n",
    "stateHiwayRangeBins = thematicsService.generate_range_theme_buckets(\n",
    "    stateHiwayDistancePerSqMile, 3,\"green\",\"red\")\n",
    "ivTheme = thematicsService.convert_to_indiv_value(\n",
    "    states, 'State', stateHiwayRangeBins,\n",
    "    stateHiwayDistancePerSqMile,'white', 1, 0.50, 'white') \n",
    "thematicsService.apply_indiv_value_theme(states, 'State', ivTheme)\n",
    "m.remove_layer(states_layer)\n",
    "states_layer = ipyleaflet.GeoJSON(data=states)\n",
    "m.add_layer(states_layer)"
   ]
  },
  {
   "cell_type": "code",
   "execution_count": 28,
   "metadata": {},
   "outputs": [],
   "source": [
    "# And finally let's write this Theme to Spectrum Spatial's repository as well.\n",
    "thematicsService.write_indiv_value_theme(\n",
    "    \"/Jupyter/NamedLayers\",\"StatesHighwayDensityLayer\",\n",
    "    \"/Samples/NamedTables/USA\",\"State\", ivTheme)\n",
    "thematicsService.write_map(\"/Jupyter/NamedMaps\", \"StatesHighwayDensityMap\",\n",
    "    [[\"/Jupyter/NamedLayers\",\"StatesHighwayDensityLayer\"]], center, 2500, \"mi\")"
   ]
  },
  {
   "cell_type": "markdown",
   "metadata": {},
   "source": [
    "The leaflet map should now look like this:<br/>\n",
    "<IMG src=\"images/States_themed_by_hiway_len_per_area.png\"/>\n",
    "<br/>\n",
    "And in Spatial Manager should be a map named <code>StatesHighwayDensityMap</code> and should look like this:<br/>\n",
    "<IMG src=\"images/States_themed_by_hiway_len_per_area_LIM.png\"/>"
   ]
  },
  {
   "cell_type": "code",
   "execution_count": null,
   "metadata": {},
   "outputs": [],
   "source": []
  }
 ],
 "metadata": {
  "kernelspec": {
   "display_name": "Python 3",
   "language": "python",
   "name": "python3"
  },
  "language_info": {
   "codemirror_mode": {
    "name": "ipython",
    "version": 3
   },
   "file_extension": ".py",
   "mimetype": "text/x-python",
   "name": "python",
   "nbconvert_exporter": "python",
   "pygments_lexer": "ipython3",
   "version": "3.7.3"
  }
 },
 "nbformat": 4,
 "nbformat_minor": 2
}
